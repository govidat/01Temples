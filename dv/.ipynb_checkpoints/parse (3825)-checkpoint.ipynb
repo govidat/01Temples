{
 "cells": [
  {
   "cell_type": "code",
   "execution_count": 360,
   "metadata": {
    "collapsed": true
   },
   "outputs": [],
   "source": [
    "from lxml import html\n",
    "import io, json\n",
    "import re\n",
    "from os import walk"
   ]
  },
  {
   "cell_type": "code",
   "execution_count": 361,
   "metadata": {
    "collapsed": true
   },
   "outputs": [],
   "source": [
    "#_, _, filenames = next(walk(\"req/dravidaveda\"), (None, None, []))\n",
    "#_, _, filenames = next(walk(\"req1\"), (None, None, []))\n",
    "filenames = open(\"3825.txt\",\"r\").read().split()\n",
    "#print filenames"
   ]
  },
  {
   "cell_type": "code",
   "execution_count": 362,
   "metadata": {
    "collapsed": true
   },
   "outputs": [],
   "source": [
    "wb = io.open('msongsDetails.json', 'w', encoding='utf-8')\n",
    "#wb = io.open('req1.json', 'w', encoding='utf-8')\n",
    "output = []\n",
    "exc = open('exception.txt', 'w')\n",
    "suc = open('success.txt', 'w')\n",
    "\n",
    "for file in filenames:\n",
    "#    page = open(\"req1/\" + file).read()\n",
    "    page = open(\"req/dravidaveda/\" + file).read()\n",
    "    tree = html.fromstring(page)\n",
    "    try: \n",
    "        number = tree.xpath('//div[@class=\"art-article\"]//h5//span//text()')\n",
    "        if len(number) == 0:\n",
    "            number = tree.xpath('//div[@class=\"art-article\"]//h5//text()')\n",
    "        numstr = ''.join(number)       \n",
    "        numint = int(filter(str.isdigit, numstr))\n",
    "\n",
    "        sloka = tree.xpath('//div[@class=\"art-article\"]//p[@style=\"text-align: left; padding-left: 150px;\"]//text()')\n",
    "        if len(sloka) == 0:\n",
    "            sloka = tree.xpath('//div[@class=\"art-article\"]//p[@style=\"padding-left: 150px;\"]/text()')\n",
    "        if len(sloka) == 0:\n",
    "            sloka = tree.xpath('//div[@class=\"art-article\"]//p[@style=\"padding-left: 180px;\"]/text()')\n",
    "        if len(sloka) == 0:\n",
    "            sloka = tree.xpath('//div[@class=\"art-article\"]//p[@style=\"text-align: left; padding-left: 180px;\"]/text()')\n",
    "        if len(sloka) == 0:\n",
    "            sloka = tree.xpath('//div[@class=\"art-article\"]//p[@style=\"text-align: left; padding-left: 120px;\"]/text()')            \n",
    "        \n",
    "        sloka = filter(lambda(x): x not in [\" \", u\"\\xa0\", \", \"], sloka)\n",
    "        sloka = map(lambda(x): \" \".join(x.split()), sloka)\n",
    "        \n",
    "        table_words = []\n",
    "        table_meanings = []\n",
    "        table = tree.xpath('//div[@class=\"art-article\"]//table//tbody//tr')\n",
    "        for row in table:\n",
    "            word = ''\n",
    "            meaning = ''\n",
    "            it = list(row.iter(\"td\"))\n",
    "            if len(it) == 3:\n",
    "                if len(it[0]) > 0:\n",
    "                    word = list(it[0].itertext())[1]\n",
    "                table_words.append(word)\n",
    "                if len(it[2]) > 0:\n",
    "                    meaning = list(it[2].itertext())[1]\n",
    "                table_meanings.append(meaning)\n",
    "            elif len(it) == 1:\n",
    "                if len(it[0]) > 0:\n",
    "                    word = list(it[0].itertext())[1]\n",
    "                table_words.append(word)\n",
    "                table_meanings.append(word)\n",
    "            elif len(it) == 2:\n",
    "                if len(it[0]) > 0:\n",
    "                    word = list(it[0].itertext())[1]\n",
    "                if len(it[1]) > 0:\n",
    "                    meaning = list(it[1].itertext())[1]\n",
    "                table_words.append(word)\n",
    "                table_meanings.append(meaning)\n",
    "        table_words = map(lambda(x): \" \".join(x.split()), table_words)\n",
    "        table_meanings = map(lambda(x): \" \".join(x.split()), table_meanings)\n",
    "                \n",
    "        total1 =  tree.xpath('//div[@class=\"art-article\"]//p[@style=\"text-align: justify;\"]//text()')\n",
    "        total2 =  tree.xpath('//div[@class=\"art-article\"]//p//span[@style=\"text-align: justify;\"]//text()')\n",
    "        total3 =  tree.xpath('//div[@class=\"art-article\"]//p//span[@style=\"font-size: small;\"]//text()')\n",
    "        \n",
    "        total = filter(lambda(x): x not in [\", \", \"; \", \"- \", \"? \", \". \", \"\", \" \", u\"\\xa0\"], total1 + total2 + total3)\n",
    "        total = map(lambda(x): \" \".join(x.split()), total)\n",
    "        \n",
    "        regex = re.compile(r'^[ -~]+$')\n",
    "        tamil = []\n",
    "        english = []\n",
    "        for line in total:\n",
    "    #         print line\n",
    "            newline = \"\".join(re.findall(r'[\\w+]', line, re.UNICODE))\n",
    "            if regex.match(newline):\n",
    "                english.append(line)\n",
    "            elif newline != \"\":\n",
    "                tamil.append(line)\n",
    "        \n",
    "        suc.write(\"{:60}\".format(file) + \" *Id: {:5.5} \".format(str(numint)) + \"sl: {:>2} \".format(len(sloka))\n",
    "                   + \"Tw: {:>2} \".format(len(table_words)) + \"Tm: {:>2} \".format(len(table_meanings))\n",
    "                   + \"Te: {:>2} \".format(len(tamil)) + \"Ee: {:>2} \".format(len(english)) + \"\\n\")\n",
    "    \n",
    "#        print(\"{:60}\".format(file) + \" *Id: {:5.5} \".format(str(numint)) + \"sl: {:>2} \".format(len(sloka))\n",
    "#                   + \"Tw: {:>2} \".format(len(table_words)) + \"Tm: {:>2} \".format(len(table_meanings))\n",
    "#                   + \"Te: {:>2} \".format(len(tamil)) + \"Ee: {:>2} \".format(len(english)) + \"\\n\")\n",
    "                \n",
    "        obj = {\n",
    "            \"Id\": numint,\n",
    "            \"TamSong\": sloka,\n",
    "            \"TamTblWords\": table_words,\n",
    "            \"TamTblMeanings\": table_meanings,\n",
    "            \"TamExpln\": tamil,\n",
    "            \"EngExpln\": english\n",
    "        }\n",
    "        \n",
    "        output.append(obj)\n",
    "        \n",
    "    except Exception:\n",
    "         exc.write(file)\n",
    "         exc.write(\"\\n\")\n",
    "    continue      \n",
    "    \n",
    "wb.write(json.dumps(output, ensure_ascii=False, sort_keys=True))\n",
    "wb.close()\n",
    "exc.close()\n",
    "suc.close()"
   ]
  },
  {
   "cell_type": "code",
   "execution_count": null,
   "metadata": {
    "collapsed": true
   },
   "outputs": [],
   "source": []
  },
  {
   "cell_type": "code",
   "execution_count": null,
   "metadata": {
    "collapsed": true
   },
   "outputs": [],
   "source": []
  }
 ],
 "metadata": {
  "kernelspec": {
   "display_name": "Python 3",
   "language": "python",
   "name": "python3"
  },
  "language_info": {
   "codemirror_mode": {
    "name": "ipython",
    "version": 3
   },
   "file_extension": ".py",
   "mimetype": "text/x-python",
   "name": "python",
   "nbconvert_exporter": "python",
   "pygments_lexer": "ipython3",
   "version": "3.6.1"
  }
 },
 "nbformat": 4,
 "nbformat_minor": 2
}
